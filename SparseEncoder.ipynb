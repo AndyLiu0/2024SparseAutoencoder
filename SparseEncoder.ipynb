{
  "cells": [
    {
      "cell_type": "markdown",
      "metadata": {
        "id": "view-in-github",
        "colab_type": "text"
      },
      "source": [
        "<a href=\"https://colab.research.google.com/github/AndyLiu0/2024SparseAutoencoder/blob/main/SparseEncoder.ipynb\" target=\"_parent\"><img src=\"https://colab.research.google.com/assets/colab-badge.svg\" alt=\"Open In Colab\"/></a>"
      ]
    },
    {
      "cell_type": "code",
      "execution_count": null,
      "metadata": {
        "id": "4EIP4l0O_Voj"
      },
      "outputs": [],
      "source": [
        "import torch\n",
        "import torchvision\n",
        "import torch.nn as nn\n",
        "import matplotlib\n",
        "import matplotlib.pyplot as plt\n",
        "import torchvision.transforms as transforms\n",
        "import torch.nn.functional as F\n",
        "import torch.optim as optim\n",
        "import os\n",
        "import time\n",
        "import numpy as np\n",
        "import argparse\n",
        "from tqdm import tqdm\n",
        "from torchvision import datasets\n",
        "from torch.utils.data import DataLoader\n",
        "from torchvision.utils import save_image\n",
        "matplotlib.style.use('ggplot')"
      ]
    },
    {
      "cell_type": "code",
      "execution_count": null,
      "metadata": {
        "id": "TQHiYtu0L44q"
      },
      "outputs": [],
      "source": [
        "def get_device():\n",
        "    if torch.cuda.is_available():\n",
        "        device = 'cuda:0'\n",
        "    else:\n",
        "        device = 'cpu'\n",
        "    return device\n",
        "device = get_device()\n",
        "# make the `images` directory\n",
        "def make_dir():\n",
        "    image_dir = '../outputs/images'\n",
        "    if not os.path.exists(image_dir):\n",
        "        os.makedirs(image_dir)\n",
        "make_dir()\n",
        "# for saving the reconstructed images\n",
        "def save_decoded_image(img, name):\n",
        "    img = img.view(img.size(0), 1, 28, 28)\n",
        "    save_image(img, name)"
      ]
    },
    {
      "cell_type": "code",
      "execution_count": null,
      "metadata": {
        "colab": {
          "base_uri": "https://localhost:8080/"
        },
        "id": "FapaUavcDPTU",
        "outputId": "ae7c9273-11b3-454e-ea63-8d6079fe3d08"
      },
      "outputs": [
        {
          "output_type": "stream",
          "name": "stdout",
          "text": [
            "Add sparsity regularization: yes\n"
          ]
        }
      ],
      "source": [
        "# constructing argument parsers\n",
        "\n",
        "\n",
        "epochs = 50\n",
        "reg_param = 0.01\n",
        "add_sparsity = 'yes'\n",
        "learning_rate = 1e-3\n",
        "batch_size = 32\n",
        "act_function = nn.GELU()\n",
        "\n",
        "threshold = 0.05\n",
        "print(f\"Add sparsity regularization: {add_sparsity}\")"
      ]
    },
    {
      "cell_type": "code",
      "execution_count": null,
      "metadata": {
        "id": "SuHpjkAmEiHs"
      },
      "outputs": [],
      "source": [
        "# tensor_transform = transforms.ToTensor()\n",
        "\n",
        "# dataset = datasets.MNIST(root = \"./data\",\n",
        "#                          train = True,\n",
        "#                          download = True,\n",
        "#                          transform = tensor_transform)\n",
        "\n",
        "\n",
        "# loader = torch.utils.data.DataLoader(dataset = dataset,\n",
        "#                                      batch_size = 32,\n",
        "#                                      shuffle = True)\n",
        "# image transformations\n",
        "\n",
        "transform = transforms.Compose([\n",
        "    transforms.ToTensor(),\n",
        "])\n",
        "\n",
        "trainset = datasets.MNIST(\n",
        "    root='../input/data',\n",
        "    train=True,\n",
        "    download=True,\n",
        "    transform=transform\n",
        ")\n",
        "\n",
        "testset = datasets.MNIST(\n",
        "    root='../input/data',\n",
        "    train=False,\n",
        "    download=True,\n",
        "    transform=transform\n",
        ")\n",
        "\n",
        "# trainloader\n",
        "trainloader = DataLoader(\n",
        "    trainset,\n",
        "    batch_size=batch_size,\n",
        "    shuffle=True\n",
        ")\n",
        "#testloader\n",
        "testloader = DataLoader(\n",
        "    testset,\n",
        "    batch_size=batch_size,\n",
        "    shuffle=False\n",
        ")"
      ]
    },
    {
      "cell_type": "code",
      "execution_count": null,
      "metadata": {
        "id": "tvMf2dMXK9A4"
      },
      "outputs": [],
      "source": [
        "# define the autoencoder model\n",
        "class SparseAutoencoder(nn.Module):\n",
        "    def __init__(self):\n",
        "        super().__init__()\n",
        "\n",
        "        # encoder\n",
        "        self.encoder = nn.Sequential(\n",
        "            nn.Linear(784, 256),\n",
        "            act_function,\n",
        "            nn.Linear(256, 128),\n",
        "            act_function,\n",
        "            nn.Linear(128, 64),\n",
        "            act_function,\n",
        "            nn.Linear(64, 32)\n",
        "        )\n",
        "\n",
        "        # decoder\n",
        "        self.decoder = nn.Sequential(\n",
        "\n",
        "            nn.Linear(32, 64),\n",
        "            act_function,\n",
        "            nn.Linear(64, 128),\n",
        "            act_function,\n",
        "            nn.Linear(128, 256),\n",
        "            act_function,\n",
        "            nn.Linear(256, 784)\n",
        "        )\n",
        "\n",
        "    def forward(self, x):\n",
        "        # encoding\n",
        "        enc = torch.sigmoid(self.encoder(x))\n",
        "        # encoded = enc * (enc > threshold)\n",
        "        encoded = enc\n",
        "\n",
        "        decoded = self.decoder(encoded)\n",
        "\n",
        "        return encoded, decoded\n",
        "\n",
        "model = SparseAutoencoder()"
      ]
    },
    {
      "cell_type": "code",
      "execution_count": null,
      "metadata": {
        "id": "vheNjinLLBBI"
      },
      "outputs": [],
      "source": [
        "# the loss function\n",
        "criterion = nn.MSELoss()\n",
        "# the optimizer\n",
        "optimizer = optim.Adam(model.parameters(), lr=learning_rate)"
      ]
    },
    {
      "cell_type": "code",
      "execution_count": null,
      "metadata": {
        "id": "g-EIJddyLNmN"
      },
      "outputs": [],
      "source": [
        "model_children = list(model.children())\n",
        "\n",
        "target = 0.05\n",
        "\n",
        "def kl_divergence(rho, rho_hat):\n",
        "    rho_hat = torch.mean(rho_hat, 0)\n",
        "    # rho = torch.tensor([rho] * len(rho_hat)).to(device)\n",
        "    # print(rho/rho_hat)\n",
        "    # print((1 - rho)/(1 - rho_hat))\n",
        "    # print(torch.log(rho/rho_hat))\n",
        "    # print(torch.log((1 - rho)/(1 - rho_hat)))\n",
        "    x = rho * torch.log(rho/rho_hat) + (1 - rho) * torch.log((1 - rho)/(1 - rho_hat))\n",
        "    for i, n in enumerate(x):\n",
        "      if not torch.isfinite(n) or n > 100:\n",
        "        x[i] = 1\n",
        "    # print(x)\n",
        "    # if not torch.isfinite(x):\n",
        "    #   x = torch.tensor(100)\n",
        "\n",
        "    # if not torch.isfinite(x):\n",
        "    #   print(\"x\")\n",
        "    #   print(x)\n",
        "    #   print(\"i\")\n",
        "    #   for i in rho_hat:\n",
        "    #     if not torch.isfinite(rho * torch.log(rho/i) + (1 - rho) * torch.log((1 - rho)/(1 - i))):\n",
        "    #       print(i)\n",
        "\n",
        "    return torch.mean(x)\n",
        "\n",
        "def l1_loss(values):\n",
        "    return torch.mean(torch.abs(values))\n",
        "\n",
        "def sparse_loss(rho, values):\n",
        "\n",
        "    #loss = kl_divergence(0.05, values)\n",
        "    return l1_loss(values)"
      ]
    },
    {
      "cell_type": "code",
      "execution_count": null,
      "metadata": {
        "id": "ysZJTw04i2CA",
        "colab": {
          "base_uri": "https://localhost:8080/"
        },
        "outputId": "21a39984-e4e1-450e-9f56-8638e96d32db"
      },
      "outputs": [
        {
          "output_type": "stream",
          "name": "stdout",
          "text": [
            "tensor([0.8376, 0.8376, 0.8376, 0.8376, 0.8376, 0.8376, 0.8376, 0.8376, 0.8376,\n",
            "        0.8376, 0.8376, 0.8376, 0.8376, 0.8376, 0.8376, 0.8376])\n",
            "tensor(0.8376)\n",
            "tensor([1., 1., 1., 1., 1., 1., 1., 1., 1., 1., 1., 1., 1., 1., 1., 1.])\n",
            "tensor(1.)\n",
            "tensor([0.1441, 0.2005, 0.2632, 0.3326, 0.4094, 0.4946, 0.5900, 0.6975, 0.8204,\n",
            "        0.9631])\n",
            "tensor(0.4915)\n",
            "tensor(0.5000)\n",
            "tensor([1., 1., 1., 1., 1., 1., 1., 1., 1., 1., 1., 1., 1., 1., 1., 1., 1., 1.,\n",
            "        1., 1., 1., 1., 1., 1., 1., 1., 1., 1., 1., 1., 1., 1.])\n"
          ]
        }
      ],
      "source": [
        "print((kl_divergence(0.05, 0.000000001 * torch.ones([32, 16]))))\n",
        "print((kl_divergence(0.05, 1 * torch.ones([32, 16]))))\n",
        "print(kl_divergence(0.05, torch.arange(0, 1.0, 0.05).view(2, 10)))\n",
        "print(l1_loss(0.5 * torch.ones([32,16])))\n",
        "print(torch.mean(torch.ones([32,32]), 0))"
      ]
    },
    {
      "cell_type": "code",
      "execution_count": null,
      "metadata": {
        "id": "whRdp_ioUIqY"
      },
      "outputs": [],
      "source": []
    },
    {
      "cell_type": "code",
      "execution_count": null,
      "metadata": {
        "id": "WQflcl0eLYHQ"
      },
      "outputs": [],
      "source": [
        "def fit(model, dataloader, epoch):\n",
        "    print('Training')\n",
        "    model.train()\n",
        "    running_loss = 0.0\n",
        "    running_sp_penalty = 0.0\n",
        "    counter = 0\n",
        "    for i, data in tqdm(enumerate(dataloader), total=int(len(trainset)/dataloader.batch_size)):\n",
        "        counter += 1\n",
        "        img, _ = data\n",
        "        img = img.to(device)\n",
        "        img = img.view(img.size(0), -1)\n",
        "        encoded, decoded = model(img)\n",
        "        mse_loss = criterion(decoded, img)\n",
        "        if add_sparsity == 'yes':\n",
        "            sp_penalty = sparse_loss(0.05, encoded)\n",
        "\n",
        "            loss = mse_loss + reg_param * sp_penalty\n",
        "            running_sp_penalty += sp_penalty\n",
        "\n",
        "        else:\n",
        "            loss = mse_loss\n",
        "\n",
        "        optimizer.zero_grad()\n",
        "        loss.backward()\n",
        "        optimizer.step()\n",
        "        running_loss += loss.item()\n",
        "\n",
        "    epoch_loss = running_loss / counter\n",
        "\n",
        "    print(f\"Train Loss: {loss:.4f}\\t L1 Loss: {(running_sp_penalty / counter)}\")\n",
        "\n",
        "    # if epoch % 10 == 0:\n",
        "    #     save_decoded_image(outputs.cpu().data, f\"../outputs/images/train{epoch}.png\")\n",
        "    return epoch_loss"
      ]
    },
    {
      "cell_type": "code",
      "execution_count": null,
      "metadata": {
        "id": "a9ErE_fqotkJ"
      },
      "outputs": [],
      "source": [
        "def validate(model, dataloader, epoch):\n",
        "    print('Validating')\n",
        "    model.eval()\n",
        "    running_loss = 0.0\n",
        "    counter = 0\n",
        "    with torch.no_grad():\n",
        "        for i, data in tqdm(enumerate(dataloader), total=int(len(testset)/dataloader.batch_size)):\n",
        "            counter += 1\n",
        "            img, _ = data\n",
        "            img = img.to(device)\n",
        "            img = img.view(img.size(0), -1)\n",
        "            encoded, decoded = model(img)\n",
        "            loss = criterion(decoded, img)\n",
        "            running_loss += loss.item()\n",
        "\n",
        "    epoch_loss = running_loss / counter\n",
        "    print(f\"Val Loss: {loss:.4f}\")\n",
        "    print(f\"Non zeros: {torch.count_nonzero(encoded)}\")\n",
        "    print(f\"Mean: {torch.mean(encoded):.4f}\")\n",
        "    # save the reconstructed images every 5 epochs\n",
        "    # if epoch % 5 == 0:\n",
        "    #     outputs = outputs.view(outputs.size(0), 1, 28, 28).cpu().data\n",
        "    #     save_image(outputs, f\"../outputs/images/reconstruction{epoch}.png\")\n",
        "    return epoch_loss"
      ]
    },
    {
      "cell_type": "code",
      "execution_count": null,
      "metadata": {
        "id": "PnFqeMKBWg1_"
      },
      "outputs": [],
      "source": []
    },
    {
      "cell_type": "code",
      "execution_count": null,
      "metadata": {
        "colab": {
          "base_uri": "https://localhost:8080/"
        },
        "id": "r5-IrI-ILhji",
        "outputId": "3e285681-b74b-4079-e1b7-4c433631395f"
      },
      "outputs": [
        {
          "output_type": "stream",
          "name": "stdout",
          "text": [
            "Epoch 1 of 50\n",
            "Training\n"
          ]
        },
        {
          "output_type": "stream",
          "name": "stderr",
          "text": [
            "100%|██████████| 1875/1875 [00:28<00:00, 65.16it/s]\n"
          ]
        },
        {
          "output_type": "stream",
          "name": "stdout",
          "text": [
            "Train Loss: 0.0353\t L1 Loss: 0.06295374780893326\n",
            "Validating\n"
          ]
        },
        {
          "output_type": "stream",
          "name": "stderr",
          "text": [
            "313it [00:01, 163.34it/s]                         \n"
          ]
        },
        {
          "output_type": "stream",
          "name": "stdout",
          "text": [
            "Val Loss: 0.0334\n",
            "Non zeros: 512\n",
            "Mean: 0.0524\n",
            "Epoch 2 of 50\n",
            "Training\n"
          ]
        },
        {
          "output_type": "stream",
          "name": "stderr",
          "text": [
            "100%|██████████| 1875/1875 [00:28<00:00, 66.49it/s]\n"
          ]
        },
        {
          "output_type": "stream",
          "name": "stdout",
          "text": [
            "Train Loss: 0.0287\t L1 Loss: 0.05614246800541878\n",
            "Validating\n"
          ]
        },
        {
          "output_type": "stream",
          "name": "stderr",
          "text": [
            "313it [00:01, 163.71it/s]                         \n"
          ]
        },
        {
          "output_type": "stream",
          "name": "stdout",
          "text": [
            "Val Loss: 0.0285\n",
            "Non zeros: 512\n",
            "Mean: 0.0509\n",
            "Epoch 3 of 50\n",
            "Training\n"
          ]
        },
        {
          "output_type": "stream",
          "name": "stderr",
          "text": [
            "100%|██████████| 1875/1875 [00:27<00:00, 67.15it/s]\n"
          ]
        },
        {
          "output_type": "stream",
          "name": "stdout",
          "text": [
            "Train Loss: 0.0304\t L1 Loss: 0.05225148797035217\n",
            "Validating\n"
          ]
        },
        {
          "output_type": "stream",
          "name": "stderr",
          "text": [
            "313it [00:02, 122.01it/s]                         \n"
          ]
        },
        {
          "output_type": "stream",
          "name": "stdout",
          "text": [
            "Val Loss: 0.0252\n",
            "Non zeros: 512\n",
            "Mean: 0.0439\n",
            "Epoch 4 of 50\n",
            "Training\n"
          ]
        },
        {
          "output_type": "stream",
          "name": "stderr",
          "text": [
            "100%|██████████| 1875/1875 [00:27<00:00, 68.07it/s]\n"
          ]
        },
        {
          "output_type": "stream",
          "name": "stdout",
          "text": [
            "Train Loss: 0.0300\t L1 Loss: 0.04827960580587387\n",
            "Validating\n"
          ]
        },
        {
          "output_type": "stream",
          "name": "stderr",
          "text": [
            "313it [00:01, 167.22it/s]                         \n"
          ]
        },
        {
          "output_type": "stream",
          "name": "stdout",
          "text": [
            "Val Loss: 0.0234\n",
            "Non zeros: 512\n",
            "Mean: 0.0424\n",
            "Epoch 5 of 50\n",
            "Training\n"
          ]
        },
        {
          "output_type": "stream",
          "name": "stderr",
          "text": [
            "100%|██████████| 1875/1875 [00:27<00:00, 67.54it/s]\n"
          ]
        },
        {
          "output_type": "stream",
          "name": "stdout",
          "text": [
            "Train Loss: 0.0268\t L1 Loss: 0.04687773063778877\n",
            "Validating\n"
          ]
        },
        {
          "output_type": "stream",
          "name": "stderr",
          "text": [
            "313it [00:01, 168.97it/s]                         \n"
          ]
        },
        {
          "output_type": "stream",
          "name": "stdout",
          "text": [
            "Val Loss: 0.0221\n",
            "Non zeros: 512\n",
            "Mean: 0.0404\n",
            "Epoch 6 of 50\n",
            "Training\n"
          ]
        },
        {
          "output_type": "stream",
          "name": "stderr",
          "text": [
            "100%|██████████| 1875/1875 [00:27<00:00, 67.58it/s]\n"
          ]
        },
        {
          "output_type": "stream",
          "name": "stdout",
          "text": [
            "Train Loss: 0.0245\t L1 Loss: 0.04422204568982124\n",
            "Validating\n"
          ]
        },
        {
          "output_type": "stream",
          "name": "stderr",
          "text": [
            "313it [00:02, 120.54it/s]                         \n"
          ]
        },
        {
          "output_type": "stream",
          "name": "stdout",
          "text": [
            "Val Loss: 0.0217\n",
            "Non zeros: 512\n",
            "Mean: 0.0385\n",
            "Epoch 7 of 50\n",
            "Training\n"
          ]
        },
        {
          "output_type": "stream",
          "name": "stderr",
          "text": [
            "100%|██████████| 1875/1875 [00:28<00:00, 66.39it/s]\n"
          ]
        },
        {
          "output_type": "stream",
          "name": "stdout",
          "text": [
            "Train Loss: 0.0217\t L1 Loss: 0.04195356369018555\n",
            "Validating\n"
          ]
        },
        {
          "output_type": "stream",
          "name": "stderr",
          "text": [
            "313it [00:01, 166.00it/s]                         \n"
          ]
        },
        {
          "output_type": "stream",
          "name": "stdout",
          "text": [
            "Val Loss: 0.0209\n",
            "Non zeros: 512\n",
            "Mean: 0.0371\n",
            "Epoch 8 of 50\n",
            "Training\n"
          ]
        },
        {
          "output_type": "stream",
          "name": "stderr",
          "text": [
            "100%|██████████| 1875/1875 [00:27<00:00, 68.03it/s]\n"
          ]
        },
        {
          "output_type": "stream",
          "name": "stdout",
          "text": [
            "Train Loss: 0.0230\t L1 Loss: 0.04173955321311951\n",
            "Validating\n"
          ]
        },
        {
          "output_type": "stream",
          "name": "stderr",
          "text": [
            "313it [00:01, 170.22it/s]                         \n"
          ]
        },
        {
          "output_type": "stream",
          "name": "stdout",
          "text": [
            "Val Loss: 0.0205\n",
            "Non zeros: 512\n",
            "Mean: 0.0377\n",
            "Epoch 9 of 50\n",
            "Training\n"
          ]
        },
        {
          "output_type": "stream",
          "name": "stderr",
          "text": [
            "100%|██████████| 1875/1875 [00:27<00:00, 67.48it/s]\n"
          ]
        },
        {
          "output_type": "stream",
          "name": "stdout",
          "text": [
            "Train Loss: 0.0210\t L1 Loss: 0.041317228227853775\n",
            "Validating\n"
          ]
        },
        {
          "output_type": "stream",
          "name": "stderr",
          "text": [
            "313it [00:02, 134.26it/s]                         \n"
          ]
        },
        {
          "output_type": "stream",
          "name": "stdout",
          "text": [
            "Val Loss: 0.0191\n",
            "Non zeros: 512\n",
            "Mean: 0.0361\n",
            "Epoch 10 of 50\n",
            "Training\n"
          ]
        },
        {
          "output_type": "stream",
          "name": "stderr",
          "text": [
            "100%|██████████| 1875/1875 [00:29<00:00, 63.82it/s]\n"
          ]
        },
        {
          "output_type": "stream",
          "name": "stdout",
          "text": [
            "Train Loss: 0.0219\t L1 Loss: 0.04083949327468872\n",
            "Validating\n"
          ]
        },
        {
          "output_type": "stream",
          "name": "stderr",
          "text": [
            "313it [00:01, 170.03it/s]                         \n"
          ]
        },
        {
          "output_type": "stream",
          "name": "stdout",
          "text": [
            "Val Loss: 0.0186\n",
            "Non zeros: 512\n",
            "Mean: 0.0357\n",
            "Epoch 11 of 50\n",
            "Training\n"
          ]
        },
        {
          "output_type": "stream",
          "name": "stderr",
          "text": [
            "100%|██████████| 1875/1875 [00:27<00:00, 68.29it/s]\n"
          ]
        },
        {
          "output_type": "stream",
          "name": "stdout",
          "text": [
            "Train Loss: 0.0197\t L1 Loss: 0.03984291851520538\n",
            "Validating\n"
          ]
        },
        {
          "output_type": "stream",
          "name": "stderr",
          "text": [
            "313it [00:01, 168.25it/s]                         \n"
          ]
        },
        {
          "output_type": "stream",
          "name": "stdout",
          "text": [
            "Val Loss: 0.0180\n",
            "Non zeros: 512\n",
            "Mean: 0.0349\n",
            "Epoch 12 of 50\n",
            "Training\n"
          ]
        },
        {
          "output_type": "stream",
          "name": "stderr",
          "text": [
            "100%|██████████| 1875/1875 [00:27<00:00, 68.19it/s]\n"
          ]
        },
        {
          "output_type": "stream",
          "name": "stdout",
          "text": [
            "Train Loss: 0.0196\t L1 Loss: 0.038354139775037766\n",
            "Validating\n"
          ]
        },
        {
          "output_type": "stream",
          "name": "stderr",
          "text": [
            "313it [00:01, 168.25it/s]                         \n"
          ]
        },
        {
          "output_type": "stream",
          "name": "stdout",
          "text": [
            "Val Loss: 0.0174\n",
            "Non zeros: 512\n",
            "Mean: 0.0338\n",
            "Epoch 13 of 50\n",
            "Training\n"
          ]
        },
        {
          "output_type": "stream",
          "name": "stderr",
          "text": [
            "100%|██████████| 1875/1875 [00:28<00:00, 66.53it/s]\n"
          ]
        },
        {
          "output_type": "stream",
          "name": "stdout",
          "text": [
            "Train Loss: 0.0209\t L1 Loss: 0.03702870383858681\n",
            "Validating\n"
          ]
        },
        {
          "output_type": "stream",
          "name": "stderr",
          "text": [
            "313it [00:02, 130.42it/s]                         \n"
          ]
        },
        {
          "output_type": "stream",
          "name": "stdout",
          "text": [
            "Val Loss: 0.0165\n",
            "Non zeros: 512\n",
            "Mean: 0.0337\n",
            "Epoch 14 of 50\n",
            "Training\n"
          ]
        },
        {
          "output_type": "stream",
          "name": "stderr",
          "text": [
            "100%|██████████| 1875/1875 [00:27<00:00, 67.34it/s]\n"
          ]
        },
        {
          "output_type": "stream",
          "name": "stdout",
          "text": [
            "Train Loss: 0.0202\t L1 Loss: 0.035848990082740784\n",
            "Validating\n"
          ]
        },
        {
          "output_type": "stream",
          "name": "stderr",
          "text": [
            "313it [00:01, 168.96it/s]                         \n"
          ]
        },
        {
          "output_type": "stream",
          "name": "stdout",
          "text": [
            "Val Loss: 0.0161\n",
            "Non zeros: 512\n",
            "Mean: 0.0325\n",
            "Epoch 15 of 50\n",
            "Training\n"
          ]
        },
        {
          "output_type": "stream",
          "name": "stderr",
          "text": [
            "100%|██████████| 1875/1875 [00:27<00:00, 67.77it/s]\n"
          ]
        },
        {
          "output_type": "stream",
          "name": "stdout",
          "text": [
            "Train Loss: 0.0177\t L1 Loss: 0.034891728311777115\n",
            "Validating\n"
          ]
        },
        {
          "output_type": "stream",
          "name": "stderr",
          "text": [
            "313it [00:01, 164.03it/s]                         \n"
          ]
        },
        {
          "output_type": "stream",
          "name": "stdout",
          "text": [
            "Val Loss: 0.0163\n",
            "Non zeros: 512\n",
            "Mean: 0.0312\n",
            "Epoch 16 of 50\n",
            "Training\n"
          ]
        },
        {
          "output_type": "stream",
          "name": "stderr",
          "text": [
            " 35%|███▍      | 650/1875 [00:09<00:16, 73.03it/s]"
          ]
        }
      ],
      "source": [
        "accuracy_rec = []\n",
        "\n",
        "train_loss = []\n",
        "val_loss = []\n",
        "start = time.time()\n",
        "for epoch in range(epochs):\n",
        "    print(f\"Epoch {epoch+1} of {epochs}\")\n",
        "    train_epoch_loss = fit(model, trainloader, epoch)\n",
        "    val_epoch_loss = validate(model, testloader, epoch)\n",
        "    train_loss.append(train_epoch_loss)\n",
        "    val_loss.append(val_epoch_loss)\n",
        "end = time.time()\n",
        "print(val_epoch_loss)\n",
        "print(val_loss)\n",
        "print(f\"{int(end-start)} seconds\")"
      ]
    },
    {
      "cell_type": "code",
      "execution_count": null,
      "metadata": {
        "id": "ctHCmR5eALc9"
      },
      "outputs": [],
      "source": [
        "torch.save(model, \"/Models/leaky32-3.pt\")"
      ]
    },
    {
      "cell_type": "code",
      "execution_count": null,
      "metadata": {
        "colab": {
          "base_uri": "https://localhost:8080/",
          "height": 1000
        },
        "id": "dcuJbDUKPTIw",
        "outputId": "50aecc03-89ae-4669-b511-a4eac412b93b"
      },
      "outputs": [
        {
          "output_type": "stream",
          "name": "stdout",
          "text": [
            "torch.return_types.sort(\n",
            "values=tensor([[6.3488e-03, 6.7833e-03, 9.1680e-03, 1.0402e-02, 1.5170e-02, 3.1909e-02,\n",
            "         1.1135e-01, 3.2185e-01, 5.9169e-01, 8.9025e-01, 8.9746e-01, 8.9971e-01,\n",
            "         9.7109e-01, 9.7807e-01, 9.8827e-01, 9.8942e-01],\n",
            "        [3.8731e-04, 1.2675e-03, 2.5754e-03, 3.1950e-03, 8.8424e-03, 1.4621e-02,\n",
            "         1.5525e-02, 2.0502e-02, 2.4104e-02, 7.9524e-02, 2.9407e-01, 6.5058e-01,\n",
            "         8.9553e-01, 9.6336e-01, 9.8569e-01, 9.9085e-01],\n",
            "        [1.7477e-05, 8.4688e-04, 1.1388e-03, 1.7108e-03, 1.9877e-03, 8.6742e-03,\n",
            "         5.0616e-02, 5.2125e-02, 6.8365e-02, 1.1505e-01, 1.8935e-01, 6.0261e-01,\n",
            "         8.5584e-01, 9.0525e-01, 9.9982e-01, 9.9996e-01],\n",
            "        [2.3634e-04, 8.4388e-04, 1.4402e-03, 5.5437e-03, 6.6045e-03, 7.2358e-02,\n",
            "         8.4855e-02, 9.6398e-02, 4.8880e-01, 5.6964e-01, 6.4049e-01, 9.0703e-01,\n",
            "         9.2805e-01, 9.3703e-01, 9.4869e-01, 9.5086e-01],\n",
            "        [2.0532e-02, 3.3018e-02, 6.3890e-02, 6.4063e-02, 8.2480e-02, 1.7794e-01,\n",
            "         3.2620e-01, 3.3796e-01, 3.4107e-01, 3.6990e-01, 5.5240e-01, 7.8988e-01,\n",
            "         7.9666e-01, 8.7701e-01, 8.9819e-01, 9.1217e-01],\n",
            "        [2.5356e-05, 1.1266e-03, 1.3759e-03, 2.3549e-03, 2.4074e-03, 1.1503e-02,\n",
            "         3.1456e-02, 4.4145e-02, 4.5882e-02, 9.2758e-02, 1.2988e-01, 4.6660e-01,\n",
            "         8.5202e-01, 8.5842e-01, 9.9978e-01, 9.9994e-01],\n",
            "        [4.8661e-02, 6.5815e-02, 7.1396e-02, 7.6292e-02, 1.3463e-01, 1.9091e-01,\n",
            "         2.9962e-01, 3.7078e-01, 4.4924e-01, 4.5859e-01, 6.8950e-01, 7.9061e-01,\n",
            "         8.2157e-01, 8.6793e-01, 8.7721e-01, 9.2993e-01],\n",
            "        [8.3906e-03, 3.0780e-02, 3.0815e-02, 3.6704e-02, 4.2514e-02, 6.7906e-02,\n",
            "         1.3409e-01, 1.5250e-01, 2.5878e-01, 3.5274e-01, 3.9825e-01, 4.3076e-01,\n",
            "         6.6628e-01, 7.8315e-01, 9.1180e-01, 9.5674e-01],\n",
            "        [1.4280e-04, 5.4128e-04, 8.2239e-04, 2.9658e-03, 3.3544e-03, 2.3340e-02,\n",
            "         3.8904e-02, 1.0890e-01, 1.7483e-01, 2.4599e-01, 4.9932e-01, 5.5087e-01,\n",
            "         6.1879e-01, 6.2616e-01, 9.3586e-01, 9.5541e-01],\n",
            "        [1.2497e-02, 2.0059e-02, 2.5235e-02, 2.7406e-02, 3.1055e-02, 1.0206e-01,\n",
            "         1.2282e-01, 4.0732e-01, 4.9419e-01, 5.5562e-01, 6.9827e-01, 9.8803e-01,\n",
            "         9.9434e-01, 9.9591e-01, 9.9853e-01, 9.9922e-01],\n",
            "        [1.5523e-04, 5.6446e-04, 8.2564e-04, 3.4237e-03, 3.4662e-03, 5.3868e-02,\n",
            "         8.1499e-02, 1.1540e-01, 5.1924e-01, 8.1949e-01, 8.7562e-01, 8.7931e-01,\n",
            "         9.6952e-01, 9.7311e-01, 9.8090e-01, 9.8787e-01],\n",
            "        [9.9964e-04, 3.7036e-03, 4.4943e-03, 2.1308e-02, 3.1234e-02, 3.1677e-02,\n",
            "         1.6796e-01, 2.0117e-01, 5.2930e-01, 6.1074e-01, 6.3534e-01, 9.0800e-01,\n",
            "         9.1305e-01, 9.5013e-01, 9.5217e-01, 9.6975e-01],\n",
            "        [2.2623e-02, 2.9910e-02, 3.1077e-02, 3.6437e-02, 6.2028e-02, 7.1228e-02,\n",
            "         7.5120e-02, 1.2902e-01, 1.5920e-01, 1.6235e-01, 2.1017e-01, 6.8183e-01,\n",
            "         7.6082e-01, 7.7020e-01, 8.0407e-01, 8.9924e-01],\n",
            "        [3.8340e-04, 1.3306e-03, 2.1181e-03, 9.4716e-03, 1.0197e-02, 6.0285e-02,\n",
            "         9.2705e-02, 1.7751e-01, 4.6494e-01, 5.7286e-01, 6.4755e-01, 9.2162e-01,\n",
            "         9.4441e-01, 9.5052e-01, 9.5110e-01, 9.5893e-01],\n",
            "        [1.3002e-03, 5.2200e-03, 6.5601e-03, 7.3341e-03, 8.3213e-03, 9.7991e-03,\n",
            "         2.5588e-02, 2.8744e-02, 5.1312e-02, 6.4630e-02, 2.9668e-01, 3.0511e-01,\n",
            "         8.3573e-01, 9.4751e-01, 9.4792e-01, 9.9435e-01],\n",
            "        [1.0246e-03, 3.4450e-03, 3.5392e-03, 2.1415e-02, 2.2941e-02, 5.0265e-02,\n",
            "         9.1889e-02, 1.8068e-01, 5.3452e-01, 5.3556e-01, 7.6404e-01, 8.0429e-01,\n",
            "         8.9791e-01, 9.2039e-01, 9.5372e-01, 9.8167e-01],\n",
            "        [2.0876e-02, 4.0262e-02, 4.4419e-02, 4.5089e-02, 6.4638e-02, 1.0265e-01,\n",
            "         2.2649e-01, 4.3667e-01, 4.9797e-01, 5.4675e-01, 6.0355e-01, 6.6152e-01,\n",
            "         6.6437e-01, 8.1865e-01, 8.7762e-01, 9.0262e-01],\n",
            "        [8.6095e-03, 1.1085e-02, 1.1639e-02, 1.3158e-02, 3.0316e-02, 3.3635e-02,\n",
            "         4.6194e-02, 4.4518e-01, 7.0396e-01, 7.6657e-01, 8.3243e-01, 8.7476e-01,\n",
            "         9.1116e-01, 9.2371e-01, 9.7883e-01, 9.8680e-01],\n",
            "        [1.9834e-03, 6.4503e-03, 7.4391e-03, 1.5447e-02, 5.1162e-02, 8.1063e-02,\n",
            "         1.2020e-01, 1.4794e-01, 4.5625e-01, 5.2928e-01, 5.4071e-01, 8.4800e-01,\n",
            "         8.6357e-01, 9.0683e-01, 9.5583e-01, 9.8321e-01],\n",
            "        [2.2503e-02, 2.3321e-02, 4.8259e-02, 4.8510e-02, 6.2665e-02, 6.6651e-02,\n",
            "         6.7553e-02, 7.0091e-02, 7.3874e-02, 1.2711e-01, 3.7988e-01, 4.9167e-01,\n",
            "         7.0441e-01, 7.9102e-01, 8.3482e-01, 8.8430e-01],\n",
            "        [3.5862e-03, 5.8052e-03, 1.0121e-02, 1.4720e-02, 1.4729e-02, 6.3584e-02,\n",
            "         1.3499e-01, 3.7370e-01, 4.0943e-01, 6.6778e-01, 9.2328e-01, 9.4982e-01,\n",
            "         9.5646e-01, 9.6013e-01, 9.6404e-01, 9.8732e-01],\n",
            "        [4.2389e-04, 1.6334e-03, 2.9710e-03, 9.9852e-03, 1.4065e-02, 8.1430e-02,\n",
            "         1.4522e-01, 1.5637e-01, 1.6494e-01, 1.7955e-01, 6.4923e-01, 6.8342e-01,\n",
            "         7.0953e-01, 8.2265e-01, 9.1872e-01, 9.4306e-01],\n",
            "        [8.1025e-03, 3.6696e-02, 7.4798e-02, 1.8006e-01, 2.1899e-01, 2.1933e-01,\n",
            "         3.7199e-01, 3.9299e-01, 4.7188e-01, 6.2109e-01, 7.7016e-01, 8.2217e-01,\n",
            "         8.9813e-01, 9.3117e-01, 9.4917e-01, 9.8013e-01],\n",
            "        [3.9649e-04, 1.6459e-03, 2.1641e-03, 1.6004e-02, 1.8303e-02, 2.0587e-02,\n",
            "         2.9430e-02, 5.5827e-02, 6.6099e-02, 2.2443e-01, 3.1514e-01, 5.6508e-01,\n",
            "         5.6894e-01, 6.4757e-01, 7.7501e-01, 8.6912e-01],\n",
            "        [1.1460e-02, 2.2216e-02, 3.6603e-02, 3.7018e-02, 3.8691e-02, 6.0336e-02,\n",
            "         6.5465e-02, 6.9400e-02, 1.1711e-01, 2.1985e-01, 3.8976e-01, 5.8078e-01,\n",
            "         6.4567e-01, 6.6793e-01, 8.7167e-01, 9.2912e-01],\n",
            "        [2.7454e-05, 1.3071e-04, 1.8864e-04, 3.8240e-04, 8.7383e-04, 3.3619e-03,\n",
            "         9.8554e-02, 1.6394e-01, 2.2262e-01, 8.7114e-01, 9.5504e-01, 9.7792e-01,\n",
            "         9.8898e-01, 9.9112e-01, 9.9446e-01, 9.9844e-01],\n",
            "        [1.2553e-02, 2.8747e-02, 3.5985e-02, 3.7173e-02, 3.9663e-02, 9.1772e-02,\n",
            "         1.2258e-01, 1.6275e-01, 2.0011e-01, 3.1288e-01, 6.1689e-01, 7.7578e-01,\n",
            "         8.5474e-01, 8.6059e-01, 8.7221e-01, 9.1503e-01],\n",
            "        [2.8027e-02, 4.4366e-02, 6.1011e-02, 6.7264e-02, 1.2643e-01, 1.6376e-01,\n",
            "         3.1493e-01, 3.6636e-01, 5.3160e-01, 5.9142e-01, 6.4710e-01, 6.5617e-01,\n",
            "         7.1695e-01, 8.7225e-01, 9.0307e-01, 9.1904e-01],\n",
            "        [3.4888e-04, 1.2204e-03, 2.0347e-03, 8.6309e-03, 9.3473e-03, 7.8655e-02,\n",
            "         7.9346e-02, 1.3353e-01, 4.8176e-01, 5.5296e-01, 5.5304e-01, 8.9781e-01,\n",
            "         9.3176e-01, 9.4097e-01, 9.4290e-01, 9.4570e-01],\n",
            "        [4.8743e-03, 4.9426e-03, 8.6383e-03, 1.7080e-02, 1.8149e-02, 2.0020e-02,\n",
            "         2.5754e-02, 2.8531e-02, 4.6069e-02, 7.6261e-02, 1.9895e-01, 3.2289e-01,\n",
            "         6.5043e-01, 8.6103e-01, 9.3811e-01, 9.8057e-01],\n",
            "        [5.7487e-04, 2.6619e-03, 2.8771e-03, 1.8395e-02, 2.1277e-02, 2.4510e-02,\n",
            "         3.8547e-02, 1.3677e-01, 1.5738e-01, 2.4673e-01, 3.1856e-01, 4.9908e-01,\n",
            "         6.7029e-01, 8.1204e-01, 8.4817e-01, 9.2344e-01],\n",
            "        [3.1494e-03, 4.3388e-03, 1.6355e-02, 1.6840e-02, 2.1641e-02, 2.2839e-02,\n",
            "         2.4283e-02, 2.8809e-02, 4.4620e-02, 7.9827e-02, 1.9955e-01, 3.5164e-01,\n",
            "         4.9969e-01, 8.3752e-01, 9.2689e-01, 9.7727e-01]],\n",
            "       grad_fn=<SortBackward0>),\n",
            "indices=tensor([[12,  7,  2,  1,  3,  6, 10, 13,  5,  4, 15,  0,  8, 14,  9, 11],\n",
            "        [ 8, 14, 13,  4, 11,  9,  2, 10,  1,  3,  0,  7,  6,  5, 12, 15],\n",
            "        [13,  3,  2,  6,  1,  7,  8, 10, 14,  0, 11,  4,  5,  9, 15, 12],\n",
            "        [ 8, 14,  4, 11,  9, 10,  0, 12,  2,  1, 15,  3,  5, 13,  6,  7],\n",
            "        [12,  6,  1,  2, 10,  7,  8,  3,  4, 15, 14,  5,  0, 13,  9, 11],\n",
            "        [13,  3,  2,  6,  1,  7,  8, 14, 10,  0, 11,  4,  9,  5, 15, 12],\n",
            "        [12,  1,  6,  2,  7, 10,  3, 15,  5,  0,  4,  8, 14, 13, 11,  9],\n",
            "        [ 8, 14,  4, 12, 10,  6,  2,  1,  7,  9, 15,  3, 11, 13,  0,  5],\n",
            "        [ 8, 14,  4, 11,  9,  0, 10,  2,  1, 12,  5,  3, 13,  7, 15,  6],\n",
            "        [ 7, 12,  3,  1,  2,  6,  5, 10,  0, 13, 15, 11,  4,  9, 14,  8],\n",
            "        [ 8, 14,  4,  9, 11, 12,  0, 10, 15,  2,  5,  1,  6,  3,  7, 13],\n",
            "        [ 8, 14,  4,  9, 12, 11, 10, 15,  0,  2,  1,  6,  3,  7, 13,  5],\n",
            "        [10,  1,  2,  7,  3,  8,  6, 12,  4, 14, 13,  9, 11,  0,  5, 15],\n",
            "        [ 8, 14,  4,  9, 11, 12, 10,  0, 15,  2,  1,  3,  6,  5, 13,  7],\n",
            "        [13, 10,  2,  8,  1,  3, 14,  7,  4,  6, 11,  9,  0, 12,  5, 15],\n",
            "        [ 8,  4, 14, 12,  9, 11, 10, 15,  1,  2,  6,  0,  3,  7, 13,  5],\n",
            "        [12,  1,  2,  6, 10,  7,  3,  4,  8, 15,  5,  0, 14, 13, 11,  9],\n",
            "        [12,  2,  7,  1,  6,  3, 10, 13,  4,  5,  8, 15, 14,  0,  9, 11],\n",
            "        [ 8,  4, 14, 12,  9, 10, 11, 15,  6,  2,  1,  7,  3,  0, 13,  5],\n",
            "        [10,  8,  1,  2, 14,  4,  6, 12,  7,  3, 13,  9, 11, 15,  0,  5],\n",
            "        [ 3,  7, 13,  2,  1, 10,  6,  5, 12,  0,  4, 14,  8, 11,  9, 15],\n",
            "        [ 8, 14,  4, 11,  9, 10,  2,  0, 12,  1, 13,  3, 15,  7,  6,  5],\n",
            "        [12,  6, 15, 10,  8,  4,  2,  1, 14,  7,  3,  9,  5, 11,  0, 13],\n",
            "        [ 8, 14,  4,  9, 10, 11, 12,  2,  1,  7,  3,  0,  6, 13, 15,  5],\n",
            "        [ 8, 10, 14,  4, 12,  2,  1,  6,  7,  3,  9, 13, 15, 11,  0,  5],\n",
            "        [ 8, 14,  4, 11,  9,  0, 10, 12,  5, 15,  2,  1,  7,  6,  3, 13],\n",
            "        [12, 10,  6,  2,  1,  7,  8,  4,  3, 14, 15, 13,  9,  5,  0, 11],\n",
            "        [12,  6,  1,  2, 10,  7,  3, 15,  4,  8,  5,  0, 14, 13, 11,  9],\n",
            "        [ 8, 14,  4, 11,  9, 12, 10,  0,  2,  1, 15,  3, 13,  5,  6,  7],\n",
            "        [10,  8, 13,  2, 14,  1,  3,  4,  7,  6,  9, 11, 12,  0,  5, 15],\n",
            "        [ 8, 14,  4, 10, 12,  9, 11,  2,  1,  6,  7,  3, 15, 13,  0,  5],\n",
            "        [10,  8, 13, 14,  2,  1,  4,  3,  7,  6,  9, 11, 12,  0,  5, 15]]))\n",
            "torch.Size([32, 16])\n",
            "tensor(512)\n"
          ]
        },
        {
          "output_type": "display_data",
          "data": {
            "text/plain": [
              "<Figure size 2500x400 with 20 Axes>"
            ],
            "image/png": "[encoded data removed]"
          },
          "metadata": {}
        }
      ],
      "source": [
        "# obtain one batch of test images\n",
        "dataiter = iter(testloader)\n",
        "images, labels = next(dataiter)\n",
        "\n",
        "images_flatten = images.view(images.size(0), -1)\n",
        "# get sample outputs\n",
        "encoded, decoded = model(images_flatten)\n",
        "# prep images for display\n",
        "images = images.numpy()\n",
        "\n",
        "# output is resized into a batch of images\n",
        "decoded = decoded.view(batch_size, 1, 28, 28)\n",
        "# use detach when it's an output that requires_grad\n",
        "decoded = decoded.detach().numpy()\n",
        "print(torch.sort(encoded))\n",
        "print(encoded.size())\n",
        "print(torch.count_nonzero(encoded))\n",
        "# plot the first ten input images and then reconstructed images\n",
        "fig, axes = plt.subplots(nrows=2, ncols=10, sharex=True, sharey=True, figsize=(25,4))\n",
        "\n",
        "# input images on top row, reconstructions on bottom\n",
        "for images, row in zip([images, decoded], axes):\n",
        "    for img, ax in zip(images, row):\n",
        "        ax.imshow(np.squeeze(img), cmap='gray')\n",
        "        ax.get_xaxis().set_visible(False)\n",
        "        ax.get_yaxis().set_visible(False)\n"
      ]
    }
  ],
  "metadata": {
    "colab": {
      "provenance": [],
      "authorship_tag": "ABX9TyPBDVKShCt6TbMuwSUo3/Iw",
      "include_colab_link": true
    },
    "kernelspec": {
      "display_name": "Python 3",
      "name": "python3"
    },
    "language_info": {
      "name": "python"
    }
  },
  "nbformat": 4,
  "nbformat_minor": 0
}